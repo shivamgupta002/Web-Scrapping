{
 "cells": [
  {
   "cell_type": "code",
   "execution_count": 1,
   "id": "33da500f-80d8-4e28-b05f-1d63ffa06318",
   "metadata": {},
   "outputs": [],
   "source": [
    "import pandas as pd\n",
    "import requests\n",
    "from bs4 import BeautifulSoup"
   ]
  },
  {
   "cell_type": "code",
   "execution_count": 2,
   "id": "bc5a7405-c071-42f2-9734-3c455ae2b980",
   "metadata": {},
   "outputs": [
    {
     "data": {
      "text/plain": [
       "<Response [200]>"
      ]
     },
     "execution_count": 2,
     "metadata": {},
     "output_type": "execute_result"
    }
   ],
   "source": [
    "url=\"https://webscraper.io/test-sites/e-commerce/static/computers/laptops\"\n",
    "r=requests.get(url)\n",
    "r"
   ]
  },
  {
   "cell_type": "code",
   "execution_count": 3,
   "id": "e695effe-45ff-46e3-8466-d3c2805f0d8d",
   "metadata": {},
   "outputs": [
    {
     "name": "stdout",
     "output_type": "stream",
     "text": [
      "<bound method Tag.prettify of <div class=\"col-lg-9\">\n",
      "<h1 class=\"page-header\">Computers / Laptops</h1>\n",
      "<div class=\"row\">\n",
      "<div class=\"col-md-4 col-xl-4 col-lg-4\">\n",
      "<div class=\"card thumbnail\">\n",
      "<div class=\"product-wrapper card-body\">\n",
      "<img alt=\"item\" class=\"img-fluid card-img-top image img-responsive\" src=\"/images/test-sites/e-commerce/items/cart2.png\"/>\n",
      "<div class=\"caption\">\n",
      "<h4 class=\"price float-end card-title pull-right\">$416.99</h4>\n",
      "<h4>\n",
      "<a class=\"title\" href=\"/test-sites/e-commerce/static/product/31\" title=\"Packard 255 G2\">Packard 255 G2</a>\n",
      "</h4>\n",
      "<p class=\"description card-text\">15.6\", AMD E2-3800 1.3GHz, 4GB, 500GB, Windows 8.1</p>\n",
      "</div>\n",
      "<div class=\"ratings\">\n",
      "<p class=\"review-count float-end\">2 reviews</p>\n",
      "<p data-rating=\"2\">\n",
      "<span class=\"ws-icon ws-icon-star\"></span>\n",
      "<span class=\"ws-icon ws-icon-star\"></span>\n",
      "</p>\n",
      "</div>\n",
      "</div>\n",
      "</div>\n",
      "</div>\n",
      "<div class=\"col-md-4 col-xl-4 col-lg-4\">\n",
      "<div class=\"card thumbnail\">\n",
      "<div class=\"product-wrapper card-body\">\n",
      "<img alt=\"item\" class=\"img-fluid card-img-top image img-responsive\" src=\"/images/test-sites/e-commerce/items/cart2.png\"/>\n",
      "<div class=\"caption\">\n",
      "<h4 class=\"price float-end card-title pull-right\">$306.99</h4>\n",
      "<h4>\n",
      "<a class=\"title\" href=\"/test-sites/e-commerce/static/product/32\" title=\"Aspire E1-510\">Aspire E1-510</a>\n",
      "</h4>\n",
      "<p class=\"description card-text\">15.6\", Pentium N3520 2.16GHz, 4GB, 500GB, Linux</p>\n",
      "</div>\n",
      "<div class=\"ratings\">\n",
      "<p class=\"review-count float-end\">2 reviews</p>\n",
      "<p data-rating=\"3\">\n",
      "<span class=\"ws-icon ws-icon-star\"></span>\n",
      "<span class=\"ws-icon ws-icon-star\"></span>\n",
      "<span class=\"ws-icon ws-icon-star\"></span>\n",
      "</p>\n",
      "</div>\n",
      "</div>\n",
      "</div>\n",
      "</div>\n",
      "<div class=\"col-md-4 col-xl-4 col-lg-4\">\n",
      "<div class=\"card thumbnail\">\n",
      "<div class=\"product-wrapper card-body\">\n",
      "<img alt=\"item\" class=\"img-fluid card-img-top image img-responsive\" src=\"/images/test-sites/e-commerce/items/cart2.png\"/>\n",
      "<div class=\"caption\">\n",
      "<h4 class=\"price float-end card-title pull-right\">$1178.99</h4>\n",
      "<h4>\n",
      "<a class=\"title\" href=\"/test-sites/e-commerce/static/product/33\" title=\"ThinkPad T540p\">ThinkPad T540p</a>\n",
      "</h4>\n",
      "<p class=\"description card-text\">15.6\", Core i5-4200M, 4GB, 500GB, Win7 Pro 64bit</p>\n",
      "</div>\n",
      "<div class=\"ratings\">\n",
      "<p class=\"review-count float-end\">2 reviews</p>\n",
      "<p data-rating=\"1\">\n",
      "<span class=\"ws-icon ws-icon-star\"></span>\n",
      "</p>\n",
      "</div>\n",
      "</div>\n",
      "</div>\n",
      "</div>\n",
      "<div class=\"col-md-4 col-xl-4 col-lg-4\">\n",
      "<div class=\"card thumbnail\">\n",
      "<div class=\"product-wrapper card-body\">\n",
      "<img alt=\"item\" class=\"img-fluid card-img-top image img-responsive\" src=\"/images/test-sites/e-commerce/items/cart2.png\"/>\n",
      "<div class=\"caption\">\n",
      "<h4 class=\"price float-end card-title pull-right\">$739.99</h4>\n",
      "<h4>\n",
      "<a class=\"title\" href=\"/test-sites/e-commerce/static/product/34\" title=\"ProBook\">ProBook</a>\n",
      "</h4>\n",
      "<p class=\"description card-text\">14\", Core i5 2.6GHz, 4GB, 500GB, Win7 Pro 64bit</p>\n",
      "</div>\n",
      "<div class=\"ratings\">\n",
      "<p class=\"review-count float-end\">8 reviews</p>\n",
      "<p data-rating=\"4\">\n",
      "<span class=\"ws-icon ws-icon-star\"></span>\n",
      "<span class=\"ws-icon ws-icon-star\"></span>\n",
      "<span class=\"ws-icon ws-icon-star\"></span>\n",
      "<span class=\"ws-icon ws-icon-star\"></span>\n",
      "</p>\n",
      "</div>\n",
      "</div>\n",
      "</div>\n",
      "</div>\n",
      "<div class=\"col-md-4 col-xl-4 col-lg-4\">\n",
      "<div class=\"card thumbnail\">\n",
      "<div class=\"product-wrapper card-body\">\n",
      "<img alt=\"item\" class=\"img-fluid card-img-top image img-responsive\" src=\"/images/test-sites/e-commerce/items/cart2.png\"/>\n",
      "<div class=\"caption\">\n",
      "<h4 class=\"price float-end card-title pull-right\">$1311.99</h4>\n",
      "<h4>\n",
      "<a class=\"title\" href=\"/test-sites/e-commerce/static/product/35\" title=\"ThinkPad X240\">ThinkPad X240</a>\n",
      "</h4>\n",
      "<p class=\"description card-text\">12.5\", Core i5-4300U, 8GB, 240GB SSD, Win7 Pro 64bit</p>\n",
      "</div>\n",
      "<div class=\"ratings\">\n",
      "<p class=\"review-count float-end\">12 reviews</p>\n",
      "<p data-rating=\"3\">\n",
      "<span class=\"ws-icon ws-icon-star\"></span>\n",
      "<span class=\"ws-icon ws-icon-star\"></span>\n",
      "<span class=\"ws-icon ws-icon-star\"></span>\n",
      "</p>\n",
      "</div>\n",
      "</div>\n",
      "</div>\n",
      "</div>\n",
      "<div class=\"col-md-4 col-xl-4 col-lg-4\">\n",
      "<div class=\"card thumbnail\">\n",
      "<div class=\"product-wrapper card-body\">\n",
      "<img alt=\"item\" class=\"img-fluid card-img-top image img-responsive\" src=\"/images/test-sites/e-commerce/items/cart2.png\"/>\n",
      "<div class=\"caption\">\n",
      "<h4 class=\"price float-end card-title pull-right\">$581.99</h4>\n",
      "<h4>\n",
      "<a class=\"title\" href=\"/test-sites/e-commerce/static/product/36\" title=\"Aspire E1-572G\">Aspire E1-572G</a>\n",
      "</h4>\n",
      "<p class=\"description card-text\">15.6\", Core i5-4200U, 8GB, 1TB, Radeon R7 M265, Windows 8.1</p>\n",
      "</div>\n",
      "<div class=\"ratings\">\n",
      "<p class=\"review-count float-end\">2 reviews</p>\n",
      "<p data-rating=\"1\">\n",
      "<span class=\"ws-icon ws-icon-star\"></span>\n",
      "</p>\n",
      "</div>\n",
      "</div>\n",
      "</div>\n",
      "</div>\n",
      "</div>\n",
      "<div id=\"static-pagination\">\n",
      "<nav>\n",
      "<ul class=\"pagination\">\n",
      "<li aria-disabled=\"true\" aria-label=\"« Previous\" class=\"page-item disabled\">\n",
      "<span aria-hidden=\"true\" class=\"page-link\">‹</span>\n",
      "</li>\n",
      "<li aria-current=\"page\" class=\"page-item active\"><span class=\"page-link\">1</span></li>\n",
      "<li class=\"page-item\"><a class=\"page-link\" href=\"/test-sites/e-commerce/static/computers/laptops?page=2\">2</a></li>\n",
      "<li class=\"page-item\"><a class=\"page-link\" href=\"/test-sites/e-commerce/static/computers/laptops?page=3\">3</a></li>\n",
      "<li class=\"page-item\"><a class=\"page-link\" href=\"/test-sites/e-commerce/static/computers/laptops?page=4\">4</a></li>\n",
      "<li class=\"page-item\"><a class=\"page-link\" href=\"/test-sites/e-commerce/static/computers/laptops?page=5\">5</a></li>\n",
      "<li class=\"page-item\"><a class=\"page-link\" href=\"/test-sites/e-commerce/static/computers/laptops?page=6\">6</a></li>\n",
      "<li class=\"page-item\"><a class=\"page-link\" href=\"/test-sites/e-commerce/static/computers/laptops?page=7\">7</a></li>\n",
      "<li class=\"page-item\"><a class=\"page-link\" href=\"/test-sites/e-commerce/static/computers/laptops?page=8\">8</a></li>\n",
      "<li class=\"page-item\"><a class=\"page-link\" href=\"/test-sites/e-commerce/static/computers/laptops?page=9\">9</a></li>\n",
      "<li class=\"page-item\"><a class=\"page-link\" href=\"/test-sites/e-commerce/static/computers/laptops?page=10\">10</a></li>\n",
      "<li aria-disabled=\"true\" class=\"page-item disabled\"><span class=\"page-link\">...</span></li>\n",
      "<li class=\"page-item\"><a class=\"page-link\" href=\"/test-sites/e-commerce/static/computers/laptops?page=19\">19</a></li>\n",
      "<li class=\"page-item\"><a class=\"page-link\" href=\"/test-sites/e-commerce/static/computers/laptops?page=20\">20</a></li>\n",
      "<li class=\"page-item\">\n",
      "<a aria-label=\"Next »\" class=\"page-link\" href=\"/test-sites/e-commerce/static/computers/laptops?page=2\" rel=\"next\">›</a>\n",
      "</li>\n",
      "</ul>\n",
      "</nav>\n",
      "</div>\n",
      "</div>>\n"
     ]
    }
   ],
   "source": [
    "soup=BeautifulSoup(r.content,\"html.parser\")\n",
    "box=soup.find(\"div\",class_=\"col-lg-9\")\n",
    "print(box.prettify)"
   ]
  },
  {
   "cell_type": "markdown",
   "id": "5cacbb28-e95f-4357-a392-be2c7a3baf1f",
   "metadata": {},
   "source": [
    "### Geeting next  pages url"
   ]
  },
  {
   "cell_type": "code",
   "execution_count": 4,
   "id": "6850a99c-4b77-4544-bbf6-21e20fa5ea7f",
   "metadata": {},
   "outputs": [],
   "source": [
    "## It is used where all links are different\n",
    "# while True:\n",
    "#     np=box.find(\"a\",class_=\"page-link\").get(\"href\")\n",
    "#     # np # '/test-sites/e-commerce/static/computers/laptops?page=2'\n",
    "#     cnp=\"https://webscraper.io\"+np\n",
    "#     # cnp # https://webscraper.io/test-sites/e-commerce/static/computers/laptops?page=2'\n",
    "#     print(cnp)\n",
    "#     url=cnp\n",
    "#     r=requests.get(url)\n",
    "#     soup=BeautifulSoup(r.text,\"lxml\")"
   ]
  },
  {
   "cell_type": "code",
   "execution_count": 5,
   "id": "39ad330a-75c9-4e3e-a4ec-a00a0656743b",
   "metadata": {},
   "outputs": [
    {
     "name": "stdout",
     "output_type": "stream",
     "text": [
      "https://webscraper.io/test-sites/e-commerce/static/computers/laptops?page=2\n",
      "https://webscraper.io/test-sites/e-commerce/static/computers/laptops?page=3\n",
      "https://webscraper.io/test-sites/e-commerce/static/computers/laptops?page=4\n",
      "https://webscraper.io/test-sites/e-commerce/static/computers/laptops?page=5\n",
      "https://webscraper.io/test-sites/e-commerce/static/computers/laptops?page=6\n",
      "https://webscraper.io/test-sites/e-commerce/static/computers/laptops?page=7\n",
      "https://webscraper.io/test-sites/e-commerce/static/computers/laptops?page=8\n",
      "https://webscraper.io/test-sites/e-commerce/static/computers/laptops?page=9\n"
     ]
    }
   ],
   "source": [
    "for i in range(2,10):\n",
    "    url_mul=\"https://webscraper.io/test-sites/e-commerce/static/computers/laptops?page=\"+str(i)\n",
    "    print(url_mul)"
   ]
  },
  {
   "cell_type": "code",
   "execution_count": 6,
   "id": "897346fd-1552-4fc3-a4e1-22cbbdbdfeb5",
   "metadata": {},
   "outputs": [
    {
     "data": {
      "text/plain": [
       "'https://webscraper.io/test-sites/e-commerce/static/computers/laptops'"
      ]
     },
     "execution_count": 6,
     "metadata": {},
     "output_type": "execute_result"
    }
   ],
   "source": [
    "url"
   ]
  },
  {
   "cell_type": "markdown",
   "id": "d9dfdeb9-d2a7-4c2d-ab3e-9858dfb6d8c2",
   "metadata": {},
   "source": [
    "##  Generating Data of One Page"
   ]
  },
  {
   "cell_type": "code",
   "execution_count": 7,
   "id": "efc34455-6d96-4f70-92d3-db64fa62f0b5",
   "metadata": {},
   "outputs": [],
   "source": [
    "Product_names=[]\n",
    "Prices=[]\n",
    "Descriptions=[]\n",
    "Reviews=[]"
   ]
  },
  {
   "cell_type": "code",
   "execution_count": 8,
   "id": "f2d50768-48ed-4a36-80c1-b6e9a12a0054",
   "metadata": {},
   "outputs": [
    {
     "data": {
      "text/plain": [
       "[<div class=\"col-md-4 col-xl-4 col-lg-4\">\n",
       " <div class=\"card thumbnail\">\n",
       " <div class=\"product-wrapper card-body\">\n",
       " <img alt=\"item\" class=\"img-fluid card-img-top image img-responsive\" src=\"/images/test-sites/e-commerce/items/cart2.png\"/>\n",
       " <div class=\"caption\">\n",
       " <h4 class=\"price float-end card-title pull-right\">$416.99</h4>\n",
       " <h4>\n",
       " <a class=\"title\" href=\"/test-sites/e-commerce/static/product/31\" title=\"Packard 255 G2\">Packard 255 G2</a>\n",
       " </h4>\n",
       " <p class=\"description card-text\">15.6\", AMD E2-3800 1.3GHz, 4GB, 500GB, Windows 8.1</p>\n",
       " </div>\n",
       " <div class=\"ratings\">\n",
       " <p class=\"review-count float-end\">2 reviews</p>\n",
       " <p data-rating=\"2\">\n",
       " <span class=\"ws-icon ws-icon-star\"></span>\n",
       " <span class=\"ws-icon ws-icon-star\"></span>\n",
       " </p>\n",
       " </div>\n",
       " </div>\n",
       " </div>\n",
       " </div>,\n",
       " <div class=\"col-md-4 col-xl-4 col-lg-4\">\n",
       " <div class=\"card thumbnail\">\n",
       " <div class=\"product-wrapper card-body\">\n",
       " <img alt=\"item\" class=\"img-fluid card-img-top image img-responsive\" src=\"/images/test-sites/e-commerce/items/cart2.png\"/>\n",
       " <div class=\"caption\">\n",
       " <h4 class=\"price float-end card-title pull-right\">$306.99</h4>\n",
       " <h4>\n",
       " <a class=\"title\" href=\"/test-sites/e-commerce/static/product/32\" title=\"Aspire E1-510\">Aspire E1-510</a>\n",
       " </h4>\n",
       " <p class=\"description card-text\">15.6\", Pentium N3520 2.16GHz, 4GB, 500GB, Linux</p>\n",
       " </div>\n",
       " <div class=\"ratings\">\n",
       " <p class=\"review-count float-end\">2 reviews</p>\n",
       " <p data-rating=\"3\">\n",
       " <span class=\"ws-icon ws-icon-star\"></span>\n",
       " <span class=\"ws-icon ws-icon-star\"></span>\n",
       " <span class=\"ws-icon ws-icon-star\"></span>\n",
       " </p>\n",
       " </div>\n",
       " </div>\n",
       " </div>\n",
       " </div>,\n",
       " <div class=\"col-md-4 col-xl-4 col-lg-4\">\n",
       " <div class=\"card thumbnail\">\n",
       " <div class=\"product-wrapper card-body\">\n",
       " <img alt=\"item\" class=\"img-fluid card-img-top image img-responsive\" src=\"/images/test-sites/e-commerce/items/cart2.png\"/>\n",
       " <div class=\"caption\">\n",
       " <h4 class=\"price float-end card-title pull-right\">$1178.99</h4>\n",
       " <h4>\n",
       " <a class=\"title\" href=\"/test-sites/e-commerce/static/product/33\" title=\"ThinkPad T540p\">ThinkPad T540p</a>\n",
       " </h4>\n",
       " <p class=\"description card-text\">15.6\", Core i5-4200M, 4GB, 500GB, Win7 Pro 64bit</p>\n",
       " </div>\n",
       " <div class=\"ratings\">\n",
       " <p class=\"review-count float-end\">2 reviews</p>\n",
       " <p data-rating=\"1\">\n",
       " <span class=\"ws-icon ws-icon-star\"></span>\n",
       " </p>\n",
       " </div>\n",
       " </div>\n",
       " </div>\n",
       " </div>,\n",
       " <div class=\"col-md-4 col-xl-4 col-lg-4\">\n",
       " <div class=\"card thumbnail\">\n",
       " <div class=\"product-wrapper card-body\">\n",
       " <img alt=\"item\" class=\"img-fluid card-img-top image img-responsive\" src=\"/images/test-sites/e-commerce/items/cart2.png\"/>\n",
       " <div class=\"caption\">\n",
       " <h4 class=\"price float-end card-title pull-right\">$739.99</h4>\n",
       " <h4>\n",
       " <a class=\"title\" href=\"/test-sites/e-commerce/static/product/34\" title=\"ProBook\">ProBook</a>\n",
       " </h4>\n",
       " <p class=\"description card-text\">14\", Core i5 2.6GHz, 4GB, 500GB, Win7 Pro 64bit</p>\n",
       " </div>\n",
       " <div class=\"ratings\">\n",
       " <p class=\"review-count float-end\">8 reviews</p>\n",
       " <p data-rating=\"4\">\n",
       " <span class=\"ws-icon ws-icon-star\"></span>\n",
       " <span class=\"ws-icon ws-icon-star\"></span>\n",
       " <span class=\"ws-icon ws-icon-star\"></span>\n",
       " <span class=\"ws-icon ws-icon-star\"></span>\n",
       " </p>\n",
       " </div>\n",
       " </div>\n",
       " </div>\n",
       " </div>,\n",
       " <div class=\"col-md-4 col-xl-4 col-lg-4\">\n",
       " <div class=\"card thumbnail\">\n",
       " <div class=\"product-wrapper card-body\">\n",
       " <img alt=\"item\" class=\"img-fluid card-img-top image img-responsive\" src=\"/images/test-sites/e-commerce/items/cart2.png\"/>\n",
       " <div class=\"caption\">\n",
       " <h4 class=\"price float-end card-title pull-right\">$1311.99</h4>\n",
       " <h4>\n",
       " <a class=\"title\" href=\"/test-sites/e-commerce/static/product/35\" title=\"ThinkPad X240\">ThinkPad X240</a>\n",
       " </h4>\n",
       " <p class=\"description card-text\">12.5\", Core i5-4300U, 8GB, 240GB SSD, Win7 Pro 64bit</p>\n",
       " </div>\n",
       " <div class=\"ratings\">\n",
       " <p class=\"review-count float-end\">12 reviews</p>\n",
       " <p data-rating=\"3\">\n",
       " <span class=\"ws-icon ws-icon-star\"></span>\n",
       " <span class=\"ws-icon ws-icon-star\"></span>\n",
       " <span class=\"ws-icon ws-icon-star\"></span>\n",
       " </p>\n",
       " </div>\n",
       " </div>\n",
       " </div>\n",
       " </div>,\n",
       " <div class=\"col-md-4 col-xl-4 col-lg-4\">\n",
       " <div class=\"card thumbnail\">\n",
       " <div class=\"product-wrapper card-body\">\n",
       " <img alt=\"item\" class=\"img-fluid card-img-top image img-responsive\" src=\"/images/test-sites/e-commerce/items/cart2.png\"/>\n",
       " <div class=\"caption\">\n",
       " <h4 class=\"price float-end card-title pull-right\">$581.99</h4>\n",
       " <h4>\n",
       " <a class=\"title\" href=\"/test-sites/e-commerce/static/product/36\" title=\"Aspire E1-572G\">Aspire E1-572G</a>\n",
       " </h4>\n",
       " <p class=\"description card-text\">15.6\", Core i5-4200U, 8GB, 1TB, Radeon R7 M265, Windows 8.1</p>\n",
       " </div>\n",
       " <div class=\"ratings\">\n",
       " <p class=\"review-count float-end\">2 reviews</p>\n",
       " <p data-rating=\"1\">\n",
       " <span class=\"ws-icon ws-icon-star\"></span>\n",
       " </p>\n",
       " </div>\n",
       " </div>\n",
       " </div>\n",
       " </div>]"
      ]
     },
     "execution_count": 8,
     "metadata": {},
     "output_type": "execute_result"
    }
   ],
   "source": [
    "boxes=box.find_all(\"div\",class_=\"col-md-4 col-xl-4 col-lg-4\")\n",
    "boxes"
   ]
  },
  {
   "cell_type": "code",
   "execution_count": 9,
   "id": "5b73ee79-9369-48a4-95ad-8622261dc77f",
   "metadata": {},
   "outputs": [],
   "source": [
    "names=box.find_all(\"a\",class_=\"title\")\n",
    "for i in names:\n",
    "    # print(i.text)\n",
    "    Product_names.append(i.text)"
   ]
  },
  {
   "cell_type": "code",
   "execution_count": 10,
   "id": "7b2569c4-7b2a-4388-81f7-4a0906e315a1",
   "metadata": {},
   "outputs": [
    {
     "name": "stdout",
     "output_type": "stream",
     "text": [
      "6\n"
     ]
    },
    {
     "data": {
      "text/plain": [
       "['Packard 255 G2',\n",
       " 'Aspire E1-510',\n",
       " 'ThinkPad T540p',\n",
       " 'ProBook',\n",
       " 'ThinkPad X240',\n",
       " 'Aspire E1-572G']"
      ]
     },
     "execution_count": 10,
     "metadata": {},
     "output_type": "execute_result"
    }
   ],
   "source": [
    "print(len(Product_names))\n",
    "Product_names"
   ]
  },
  {
   "cell_type": "code",
   "execution_count": 11,
   "id": "bcd37f7e-a18c-4faa-9694-f9b183c3d44b",
   "metadata": {},
   "outputs": [],
   "source": [
    "price=box.find_all(\"h4\",class_=\"price float-end card-title pull-right\")\n",
    "for i in price:\n",
    "    # print(i.text)\n",
    "    Prices.append(i.text)"
   ]
  },
  {
   "cell_type": "code",
   "execution_count": 12,
   "id": "4ccd25a2-85b6-4ff6-a8c2-3a8fb9917b24",
   "metadata": {},
   "outputs": [
    {
     "name": "stdout",
     "output_type": "stream",
     "text": [
      "6\n"
     ]
    },
    {
     "data": {
      "text/plain": [
       "['$416.99', '$306.99', '$1178.99', '$739.99', '$1311.99', '$581.99']"
      ]
     },
     "execution_count": 12,
     "metadata": {},
     "output_type": "execute_result"
    }
   ],
   "source": [
    "print(len(Prices))\n",
    "Prices"
   ]
  },
  {
   "cell_type": "code",
   "execution_count": 13,
   "id": "544c35e7-3630-4d16-9766-f7e72299a6ad",
   "metadata": {},
   "outputs": [],
   "source": [
    "desc=box.find_all(\"p\",class_=\"description card-text\")\n",
    "for i in desc:\n",
    "    # print(i.text)\n",
    "    Descriptions.append(i.text)"
   ]
  },
  {
   "cell_type": "code",
   "execution_count": 14,
   "id": "0e09f427-d888-4d36-bf19-5cb7a011a42a",
   "metadata": {},
   "outputs": [
    {
     "name": "stdout",
     "output_type": "stream",
     "text": [
      "6\n"
     ]
    },
    {
     "data": {
      "text/plain": [
       "['15.6\", AMD E2-3800 1.3GHz, 4GB, 500GB, Windows 8.1',\n",
       " '15.6\", Pentium N3520 2.16GHz, 4GB, 500GB, Linux',\n",
       " '15.6\", Core i5-4200M, 4GB, 500GB, Win7 Pro 64bit',\n",
       " '14\", Core i5 2.6GHz, 4GB, 500GB, Win7 Pro 64bit',\n",
       " '12.5\", Core i5-4300U, 8GB, 240GB SSD, Win7 Pro 64bit',\n",
       " '15.6\", Core i5-4200U, 8GB, 1TB, Radeon R7 M265, Windows 8.1']"
      ]
     },
     "execution_count": 14,
     "metadata": {},
     "output_type": "execute_result"
    }
   ],
   "source": [
    "print(len(Descriptions))\n",
    "Descriptions"
   ]
  },
  {
   "cell_type": "code",
   "execution_count": 15,
   "id": "87160b23-b75d-4afb-afbe-ce5c1d34fc81",
   "metadata": {},
   "outputs": [],
   "source": [
    "p_review=box.find_all(\"div\",class_=\"ratings\")\n",
    "for i in p_review:\n",
    "    # print(i)\n",
    "    rating_span=i.find_all(\"span\",class_=\"ws-icon ws-icon-star\")\n",
    "    # print(len(rating_span))\n",
    "    rating=len(rating_span)\n",
    "    Reviews.append(rating)"
   ]
  },
  {
   "cell_type": "code",
   "execution_count": 16,
   "id": "02b6f5bf-8f41-46f4-947b-5a0a6608af51",
   "metadata": {},
   "outputs": [
    {
     "name": "stdout",
     "output_type": "stream",
     "text": [
      "6\n"
     ]
    },
    {
     "data": {
      "text/plain": [
       "[2, 3, 1, 4, 3, 1]"
      ]
     },
     "execution_count": 16,
     "metadata": {},
     "output_type": "execute_result"
    }
   ],
   "source": [
    "print(len(Reviews))\n",
    "Reviews"
   ]
  },
  {
   "cell_type": "code",
   "execution_count": 17,
   "id": "9a5a4761-5ca8-4484-b59c-b04207d90066",
   "metadata": {},
   "outputs": [
    {
     "data": {
      "text/plain": [
       "(['Packard 255 G2',\n",
       "  'Aspire E1-510',\n",
       "  'ThinkPad T540p',\n",
       "  'ProBook',\n",
       "  'ThinkPad X240',\n",
       "  'Aspire E1-572G'],\n",
       " ['$416.99', '$306.99', '$1178.99', '$739.99', '$1311.99', '$581.99'],\n",
       " ['15.6\", AMD E2-3800 1.3GHz, 4GB, 500GB, Windows 8.1',\n",
       "  '15.6\", Pentium N3520 2.16GHz, 4GB, 500GB, Linux',\n",
       "  '15.6\", Core i5-4200M, 4GB, 500GB, Win7 Pro 64bit',\n",
       "  '14\", Core i5 2.6GHz, 4GB, 500GB, Win7 Pro 64bit',\n",
       "  '12.5\", Core i5-4300U, 8GB, 240GB SSD, Win7 Pro 64bit',\n",
       "  '15.6\", Core i5-4200U, 8GB, 1TB, Radeon R7 M265, Windows 8.1'],\n",
       " [2, 3, 1, 4, 3, 1])"
      ]
     },
     "execution_count": 17,
     "metadata": {},
     "output_type": "execute_result"
    }
   ],
   "source": [
    "Product_names,Prices,Descriptions,Reviews"
   ]
  },
  {
   "cell_type": "code",
   "execution_count": 18,
   "id": "2c8e718e-38ef-4c00-9ccd-0247ea27891a",
   "metadata": {},
   "outputs": [
    {
     "data": {
      "text/html": [
       "<div>\n",
       "<style scoped>\n",
       "    .dataframe tbody tr th:only-of-type {\n",
       "        vertical-align: middle;\n",
       "    }\n",
       "\n",
       "    .dataframe tbody tr th {\n",
       "        vertical-align: top;\n",
       "    }\n",
       "\n",
       "    .dataframe thead th {\n",
       "        text-align: right;\n",
       "    }\n",
       "</style>\n",
       "<table border=\"1\" class=\"dataframe\">\n",
       "  <thead>\n",
       "    <tr style=\"text-align: right;\">\n",
       "      <th></th>\n",
       "      <th>Product Name</th>\n",
       "      <th>Prices</th>\n",
       "      <th>Description</th>\n",
       "      <th>Review</th>\n",
       "    </tr>\n",
       "  </thead>\n",
       "  <tbody>\n",
       "    <tr>\n",
       "      <th>0</th>\n",
       "      <td>Packard 255 G2</td>\n",
       "      <td>$416.99</td>\n",
       "      <td>15.6\", AMD E2-3800 1.3GHz, 4GB, 500GB, Windows...</td>\n",
       "      <td>2</td>\n",
       "    </tr>\n",
       "    <tr>\n",
       "      <th>1</th>\n",
       "      <td>Aspire E1-510</td>\n",
       "      <td>$306.99</td>\n",
       "      <td>15.6\", Pentium N3520 2.16GHz, 4GB, 500GB, Linux</td>\n",
       "      <td>3</td>\n",
       "    </tr>\n",
       "    <tr>\n",
       "      <th>2</th>\n",
       "      <td>ThinkPad T540p</td>\n",
       "      <td>$1178.99</td>\n",
       "      <td>15.6\", Core i5-4200M, 4GB, 500GB, Win7 Pro 64bit</td>\n",
       "      <td>1</td>\n",
       "    </tr>\n",
       "    <tr>\n",
       "      <th>3</th>\n",
       "      <td>ProBook</td>\n",
       "      <td>$739.99</td>\n",
       "      <td>14\", Core i5 2.6GHz, 4GB, 500GB, Win7 Pro 64bit</td>\n",
       "      <td>4</td>\n",
       "    </tr>\n",
       "    <tr>\n",
       "      <th>4</th>\n",
       "      <td>ThinkPad X240</td>\n",
       "      <td>$1311.99</td>\n",
       "      <td>12.5\", Core i5-4300U, 8GB, 240GB SSD, Win7 Pro...</td>\n",
       "      <td>3</td>\n",
       "    </tr>\n",
       "    <tr>\n",
       "      <th>5</th>\n",
       "      <td>Aspire E1-572G</td>\n",
       "      <td>$581.99</td>\n",
       "      <td>15.6\", Core i5-4200U, 8GB, 1TB, Radeon R7 M265...</td>\n",
       "      <td>1</td>\n",
       "    </tr>\n",
       "  </tbody>\n",
       "</table>\n",
       "</div>"
      ],
      "text/plain": [
       "    Product Name    Prices   \\\n",
       "0  Packard 255 G2   $416.99   \n",
       "1   Aspire E1-510   $306.99   \n",
       "2  ThinkPad T540p  $1178.99   \n",
       "3         ProBook   $739.99   \n",
       "4   ThinkPad X240  $1311.99   \n",
       "5  Aspire E1-572G   $581.99   \n",
       "\n",
       "                                        Description   Review   \n",
       "0  15.6\", AMD E2-3800 1.3GHz, 4GB, 500GB, Windows...        2  \n",
       "1    15.6\", Pentium N3520 2.16GHz, 4GB, 500GB, Linux        3  \n",
       "2   15.6\", Core i5-4200M, 4GB, 500GB, Win7 Pro 64bit        1  \n",
       "3    14\", Core i5 2.6GHz, 4GB, 500GB, Win7 Pro 64bit        4  \n",
       "4  12.5\", Core i5-4300U, 8GB, 240GB SSD, Win7 Pro...        3  \n",
       "5  15.6\", Core i5-4200U, 8GB, 1TB, Radeon R7 M265...        1  "
      ]
     },
     "execution_count": 18,
     "metadata": {},
     "output_type": "execute_result"
    }
   ],
   "source": [
    "df=pd.DataFrame({\"Product Name \":Product_names,\"Prices \":Prices,\"Description \":Descriptions,\"Review \":Reviews})\n",
    "df"
   ]
  },
  {
   "cell_type": "code",
   "execution_count": 20,
   "id": "9d607599-134b-4bb1-9d7a-61d26349aa52",
   "metadata": {},
   "outputs": [],
   "source": [
    "df.to_csv(\"Dynamic Web capping On Single Page.csv\")"
   ]
  },
  {
   "cell_type": "markdown",
   "id": "33183b54-2cb3-45d5-87ab-7265a524cfc9",
   "metadata": {},
   "source": [
    "## Generate Data of Multiple page"
   ]
  },
  {
   "cell_type": "code",
   "execution_count": 76,
   "id": "be1d1077-3b52-4647-9ee1-41221a8e14a3",
   "metadata": {},
   "outputs": [
    {
     "name": "stdout",
     "output_type": "stream",
     "text": [
      "        Product Name    Prices   \\\n",
      "0      Packard 255 G2   $416.99   \n",
      "1       Aspire E1-510   $306.99   \n",
      "2      ThinkPad T540p  $1178.99   \n",
      "3             ProBook   $739.99   \n",
      "4       ThinkPad X240  $1311.99   \n",
      "5      Aspire E1-572G   $581.99   \n",
      "6       ThinkPad Yoga  $1033.99   \n",
      "7            Pavilion   $609.99   \n",
      "8         Inspiron 15   $745.99   \n",
      "9         Dell XPS 13  $1281.99   \n",
      "10      ThinkPad X230  $1244.99   \n",
      "11          HP 250 G3   $520.99   \n",
      "12      ThinkPad Yoga  $1223.99   \n",
      "13          HP 350 G1   $577.99   \n",
      "14   Asus VivoBook...      $399   \n",
      "15     Dell Vostro 15   $488.78   \n",
      "16        Acer Spin 5   $564.98   \n",
      "17  Acer Aspire A5...      $679   \n",
      "18   Dell Inspiron...      $679   \n",
      "19   Asus VivoBook...      $729   \n",
      "20  Asus ROG STRIX...      $799   \n",
      "21  Acer Nitro 5 A...      $809   \n",
      "22  Asus ROG STRIX...      $899   \n",
      "23  Lenovo ThinkPa...      $999   \n",
      "24   Lenovo Legion...     $1149   \n",
      "25   Lenovo Legion...     $1399   \n",
      "26  Asus ROG Strix...     $1769   \n",
      "27  Asus ROG Strix...     $1769   \n",
      "28  Asus ROG Strix...     $1799   \n",
      "29   Asus VivoBook...   $295.99   \n",
      "30  Prestigio Smar...      $299   \n",
      "31  Prestigio Smar...      $299   \n",
      "32  Lenovo V110-15...   $321.94   \n",
      "33  Lenovo V110-15...   $356.49   \n",
      "34  Hewlett Packar...   $364.46   \n",
      "35   Acer Aspire 3...    $372.7   \n",
      "36  Acer Aspire A3...   $379.94   \n",
      "37  Acer Aspire ES...   $379.95   \n",
      "38   Acer Aspire 3...   $391.48   \n",
      "39   Acer Aspire 3...   $393.88   \n",
      "40   Asus VivoBook...   $399.99   \n",
      "41  Lenovo ThinkPa...   $404.23   \n",
      "42   Acer Aspire 3...   $408.98   \n",
      "43  Lenovo V110-15...   $409.63   \n",
      "44  Acer Aspire ES...   $410.46   \n",
      "45   Asus VivoBook...   $410.66   \n",
      "46  Asus EeeBook R...    $433.3   \n",
      "47   Acer Aspire 3...   $436.29   \n",
      "48  Acer Aspire ES...   $436.29   \n",
      "49  Acer Extensa 1...   $439.73   \n",
      "50  Acer Aspire ES...   $454.62   \n",
      "51  Lenovo V110-15...   $454.73   \n",
      "52  Acer Aspire A3...   $457.38   \n",
      "53  Lenovo V110-15...   $465.95   \n",
      "\n",
      "                                         Description   Review   \n",
      "0   15.6\", AMD E2-3800 1.3GHz, 4GB, 500GB, Windows...        2  \n",
      "1     15.6\", Pentium N3520 2.16GHz, 4GB, 500GB, Linux        3  \n",
      "2    15.6\", Core i5-4200M, 4GB, 500GB, Win7 Pro 64bit        1  \n",
      "3     14\", Core i5 2.6GHz, 4GB, 500GB, Win7 Pro 64bit        4  \n",
      "4   12.5\", Core i5-4300U, 8GB, 240GB SSD, Win7 Pro...        3  \n",
      "5   15.6\", Core i5-4200U, 8GB, 1TB, Radeon R7 M265...        1  \n",
      "6   12.5\" Touch, Core i3-4010U, 4GB, 500GB + 16GB ...        2  \n",
      "7       15.6\", Core i5-4200U, 6GB, 750GB, Windows 8.1        1  \n",
      "8   Moon Silver, 15.6\", Core i7-4510U, 8GB, 1TB, R...        3  \n",
      "9   13.3\" Touch, Core i5-4210U, 8GB, 128GB SSD, Wi...        3  \n",
      "10  12.5\", Core i5 2.6GHz, 8GB, 180GB SSD, Win7 Pr...        3  \n",
      "11      15.6\", Core i5-4210U, 4GB, 500GB, Windows 8.1        2  \n",
      "12  12.5\" Touch, Core i5 4200U, 8GB, 500GB + 16GB ...        3  \n",
      "13  15.6\", Core i5-4200U, 4GB, 750GB, Radeon HD867...        2  \n",
      "14  Asus VivoBook Max X541NA-GQ041 Black Chocolate...        1  \n",
      "15  Dell Vostro 15 (3568) Black, 15.6\" FHD, Core i...        4  \n",
      "16  Acer Spin 5 SP513-51 Black, 13.3\" FHD Touch, C...        2  \n",
      "17  Acer Aspire A515-51-5654, Black, 15.6\", FHD, C...        2  \n",
      "18  Dell Inspiron 15 (5567) Fog Gray, 15.6\" FHD, C...        2  \n",
      "19  Asus VivoBook S14 (S406UA-BV041T) Starry Grey,...        1  \n",
      "20  Asus ROG STRIX GL553VD-DM256, 15.6\" FHD, Core ...        2  \n",
      "21  Acer Nitro 5 AN515-51, 15.6\" FHD IPS, Core i5-...        1  \n",
      "22  Asus ROG STRIX GL553VD-DM256, 15.6\" FHD, Core ...        1  \n",
      "23  Lenovo ThinkPad L570, 15.6\" FHD, Core i7-7500U...        3  \n",
      "24  Lenovo Legion Y520-15IKBM, 15.6\" FHD IPS, Core...        3  \n",
      "25  Lenovo Legion Y720, 15.6\" FHD IPS, Core i7-770...        3  \n",
      "26  Asus ROG Strix GL702ZC-GC154T, 17.3\" FHD, Ryze...        4  \n",
      "27  Asus ROG Strix GL702ZC-GC209T, 17.3\" FHD IPS, ...        1  \n",
      "28  Asus ROG Strix SCAR Edition GL503VM-ED115T, 15...        3  \n",
      "29  Asus VivoBook X441NA-GA190 Chocolate Black, 14...        3  \n",
      "30  Prestigio SmartBook 133S Dark Grey, 13.3\" FHD ...        2  \n",
      "31  Prestigio SmartBook 133S Gold, 13.3\" FHD IPS, ...        4  \n",
      "32  Lenovo V110-15IAP, 15.6\" HD, Celeron N3350 1.1...        3  \n",
      "33  Asus VivoBook 15 X540NA-GQ008T Chocolate Black...        2  \n",
      "34  Hewlett Packard 250 G6 Dark Ash Silver, 15.6\" ...        1  \n",
      "35  Acer Aspire 3 A315-31 Black, 15.6\" HD, Celeron...        2  \n",
      "36  Acer Aspire A315-31-C33J Black 15.6\", HD, Cele...        2  \n",
      "37  Acer Aspire ES1-572 Black, 15.6\" HD, Core i3-6...        4  \n",
      "38  Acer Aspire 3 A315-31 Black, 15.6\" HD, Pentium...        4  \n",
      "39  Acer Aspire 3 A315-21, 15.6\", AMD A4-9120. 4GB...        3  \n",
      "40  Asus VivoBook E502NA-GO022T Dark Blue, 15.6\" H...        4  \n",
      "41  Lenovo ThinkPad E31-80, 13.3\" HD, Celeron 3855...        1  \n",
      "42  Acer Aspire 3 A315-31 Black, 15.6\" HD, Pentium...        4  \n",
      "43  Lenovo V110-15ISK, 15.6\" HD, Core i3-6006U, 8G...        3  \n",
      "44  Acer Aspire ES1-732 Black, 17.3\" HD+, Celeron,...        4  \n",
      "45  Asus VivoBook 15 X540NA-GQ026T Chocolate Black...        4  \n",
      "46  Asus EeeBook R416NA-FA014T, 14\" FHD, Pentium N...        1  \n",
      "47  Acer Aspire 3 A315-51, 15.6\" HD, Core i3-6006U...        1  \n",
      "48  Acer Aspire ES1-572 Black, 15.6\" HD, Core i3-6...        1  \n",
      "49  Acer Extensa 15 (2540) Black, 15.6\" HD, Core i...        4  \n",
      "50  Acer Aspire ES1-572 Black, 15.6\" HD, Core i5-7...        1  \n",
      "51  Lenovo V110-15ISK, 15.6\" HD, Core i3-6006U, 4G...        2  \n",
      "52  Acer Aspire A315-51-33TG, Black 15.6\" HD, Core...        3  \n",
      "53  Lenovo V110-15IKB, 15.6\" HD, Core i5-7200U, 4G...        1  \n"
     ]
    }
   ],
   "source": [
    "Product_names=[]\n",
    "Prices=[]\n",
    "Descriptions=[]\n",
    "Reviews=[]\n",
    "for i in range(1,10):\n",
    "    url_mul=\"https://webscraper.io/test-sites/e-commerce/static/computers/laptops?page=\"+str(i)\n",
    "    response = requests.get(url_mul)\n",
    "    soup = BeautifulSoup(response.text, 'html.parser')\n",
    "    # print(url_mul)   \n",
    "    \n",
    "    # Find the container for products\n",
    "    boxes = soup.find_all(\"div\", class_=\"col-md-4 col-xl-4 col-lg-4\")\n",
    "    # print(boxes)\n",
    "    names=soup.find_all(\"a\",class_=\"title\")\n",
    "    for i in names:\n",
    "        # print(i.text)\n",
    "        Product_names.append(i.text)\n",
    "    # print(Product_names)\n",
    "    \n",
    "    desc=soup.find_all(\"p\",class_=\"description card-text\")\n",
    "    for i in desc:\n",
    "        # print(i.text)\n",
    "        Descriptions.append(i.text)\n",
    "        \n",
    "    price=soup.find_all(\"h4\",class_=\"price float-end card-title pull-right\")\n",
    "    for i in price:\n",
    "        # print(i.text)\n",
    "        Prices.append(i.text)\n",
    "    \n",
    "    p_review=soup.find_all(\"div\",class_=\"ratings\")\n",
    "    for i in p_review:\n",
    "        # print(i)\n",
    "        rating_span=i.find_all(\"span\",class_=\"ws-icon ws-icon-star\")\n",
    "        # print(len(rating_span))\n",
    "        rating=len(rating_span)\n",
    "        # print(rating)\n",
    "        Reviews.append(rating)\n",
    "        # print(Reviews)\n",
    "\n",
    "# print(len(Product_names),len(Prices),len(Descriptions),len(Reviews))\n",
    "df=pd.DataFrame({\"Product Name \":Product_names,\"Prices \":Prices,\"Description \":Descriptions,\"Review \":Reviews})\n",
    "print(df)\n",
    "df.to_csv(\"Multiple Data.csv\")"
   ]
  },
  {
   "cell_type": "code",
   "execution_count": null,
   "id": "4eff6cf4-6710-4826-a6ab-0c050ff7d624",
   "metadata": {},
   "outputs": [],
   "source": []
  }
 ],
 "metadata": {
  "kernelspec": {
   "display_name": "Python 3 (ipykernel)",
   "language": "python",
   "name": "python3"
  },
  "language_info": {
   "codemirror_mode": {
    "name": "ipython",
    "version": 3
   },
   "file_extension": ".py",
   "mimetype": "text/x-python",
   "name": "python",
   "nbconvert_exporter": "python",
   "pygments_lexer": "ipython3",
   "version": "3.12.1"
  }
 },
 "nbformat": 4,
 "nbformat_minor": 5
}
